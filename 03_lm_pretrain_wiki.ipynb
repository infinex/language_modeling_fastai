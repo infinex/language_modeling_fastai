{
 "cells": [
  {
   "cell_type": "code",
   "execution_count": 2,
   "metadata": {},
   "outputs": [],
   "source": [
    "from fastai.text.all import *\n",
    "from fastai.callback.progress import CSVLogger"
   ]
  },
  {
   "cell_type": "code",
   "execution_count": 19,
   "metadata": {},
   "outputs": [],
   "source": [
    "model_path = Path('data/model')\n",
    "model_path.mkdir(exist_ok=True)\n",
    "path = Path('data/doc_small')\n",
    "lang = 'id'"
   ]
  },
  {
   "cell_type": "code",
   "execution_count": 4,
   "metadata": {},
   "outputs": [],
   "source": [
    "bs=128"
   ]
  },
  {
   "cell_type": "code",
   "execution_count": 5,
   "metadata": {},
   "outputs": [],
   "source": [
    "tok = SentencePieceTokenizer(lang=lang)"
   ]
  },
  {
   "cell_type": "code",
   "execution_count": 6,
   "metadata": {
    "scrolled": true
   },
   "outputs": [
    {
     "data": {
      "text/html": [],
      "text/plain": [
       "<IPython.core.display.HTML object>"
      ]
     },
     "metadata": {},
     "output_type": "display_data"
    },
    {
     "data": {
      "text/html": [],
      "text/plain": [
       "<IPython.core.display.HTML object>"
      ]
     },
     "metadata": {},
     "output_type": "display_data"
    }
   ],
   "source": [
    "dblock = DataBlock(blocks=TextBlock.from_folder(path, is_lm=True, tok=tok),\n",
    "                   get_items=get_files,\n",
    "                   splitter=RandomSplitter(valid_pct=0.1, seed=42),\n",
    "                  )\n",
    "\n",
    "dls = dblock.dataloaders(path, path=path, bs=bs, num_workers=18)"
   ]
  },
  {
   "cell_type": "code",
   "execution_count": 7,
   "metadata": {},
   "outputs": [
    {
     "data": {
      "text/html": [
       "<table border=\"1\" class=\"dataframe\">\n",
       "  <thead>\n",
       "    <tr style=\"text-align: right;\">\n",
       "      <th></th>\n",
       "      <th>text</th>\n",
       "      <th>text_</th>\n",
       "    </tr>\n",
       "  </thead>\n",
       "  <tbody>\n",
       "    <tr>\n",
       "      <th>0</th>\n",
       "      <td>▁xxbos ▁ spongebob ▁squarepants ▁( musim ▁ke - 8) ▁xxmaj ▁musim ▁kedelapan ▁\" spongebob ▁squarepants \" ▁dimulai ▁pada ▁26 ▁xxmaj ▁maret ▁2011 ▁dengan ▁\" a ▁xxmaj ▁f ri end ly ▁xxmaj ▁game \" ▁dan ▁\" or al ▁xxmaj ▁report \" ▁dan ▁berakhir ▁pada ▁6 ▁xxmaj ▁desember ▁2012 ▁dengan ▁\" it ' s ▁ a ▁ spongebob ▁xxmaj ▁christ mas !\" . ▁xxmaj ▁musim ▁ini ▁ter diri ▁dari ▁26 ▁episode . ▁xxmaj ▁beberapa</td>\n",
       "      <td>▁ spongebob ▁squarepants ▁( musim ▁ke - 8) ▁xxmaj ▁musim ▁kedelapan ▁\" spongebob ▁squarepants \" ▁dimulai ▁pada ▁26 ▁xxmaj ▁maret ▁2011 ▁dengan ▁\" a ▁xxmaj ▁f ri end ly ▁xxmaj ▁game \" ▁dan ▁\" or al ▁xxmaj ▁report \" ▁dan ▁berakhir ▁pada ▁6 ▁xxmaj ▁desember ▁2012 ▁dengan ▁\" it ' s ▁ a ▁ spongebob ▁xxmaj ▁christ mas !\" . ▁xxmaj ▁musim ▁ini ▁ter diri ▁dari ▁26 ▁episode . ▁xxmaj ▁beberapa ▁xxup</td>\n",
       "    </tr>\n",
       "    <tr>\n",
       "      <th>1</th>\n",
       "      <td>▁leo ▁xxmaj ▁david son ▁bekerja ▁sama ▁dengan ▁pri mata ▁yang ▁di latih ▁untuk ▁misi ▁ruang ▁angkasa . ▁xxmaj ▁re kan ▁kerja ▁sim ian ▁f a vo rit nya ▁adalah ▁se ekor ▁sim pan se ▁bernama ▁xxmaj ▁pericles . ▁xxmaj ▁dengan ▁badai ▁el ek tro m a g ne tik ▁mem atikan ▁mendekati ▁stasiun , ▁ruang ▁kecil ▁p od ▁dik emudi kan ▁oleh ▁xxmaj ▁pericles ▁digunakan ▁untuk ▁m enyelidik i ▁badai . ▁xxmaj</td>\n",
       "      <td>▁xxmaj ▁david son ▁bekerja ▁sama ▁dengan ▁pri mata ▁yang ▁di latih ▁untuk ▁misi ▁ruang ▁angkasa . ▁xxmaj ▁re kan ▁kerja ▁sim ian ▁f a vo rit nya ▁adalah ▁se ekor ▁sim pan se ▁bernama ▁xxmaj ▁pericles . ▁xxmaj ▁dengan ▁badai ▁el ek tro m a g ne tik ▁mem atikan ▁mendekati ▁stasiun , ▁ruang ▁kecil ▁p od ▁dik emudi kan ▁oleh ▁xxmaj ▁pericles ▁digunakan ▁untuk ▁m enyelidik i ▁badai . ▁xxmaj ▁pericles</td>\n",
       "    </tr>\n",
       "    <tr>\n",
       "      <th>2</th>\n",
       "      <td>▁umumnya ▁terjal ▁dan ▁langsung ▁di ba tasi ▁oleh ▁laut ▁dalam ▁yang ▁ cenderung ▁merupakan ▁jalur ▁se s ar . ▁xxmaj ▁berikut ▁beberapa ▁peta ▁kuno ▁tentang ▁\" pulau ▁xxmaj ▁selayar \" ▁yang ▁dibuat ▁pada ▁tahun ▁188 6 ▁dan ▁1920 ▁xxbos ▁xxup ▁smp ▁xxmaj ▁negeri ▁1 ▁xxmaj ▁kual a ▁xxmaj ▁tungkal ▁xxup ▁smp ▁xxmaj ▁negeri ▁1 ▁xxmaj ▁kual a ▁xxmaj ▁tungkal ▁adalah ▁sebuah ▁sekolah ▁menengah ▁pertama ▁yang ▁ter letak ▁di ▁xxmaj ▁jalan ▁xxup ▁h</td>\n",
       "      <td>▁terjal ▁dan ▁langsung ▁di ba tasi ▁oleh ▁laut ▁dalam ▁yang ▁ cenderung ▁merupakan ▁jalur ▁se s ar . ▁xxmaj ▁berikut ▁beberapa ▁peta ▁kuno ▁tentang ▁\" pulau ▁xxmaj ▁selayar \" ▁yang ▁dibuat ▁pada ▁tahun ▁188 6 ▁dan ▁1920 ▁xxbos ▁xxup ▁smp ▁xxmaj ▁negeri ▁1 ▁xxmaj ▁kual a ▁xxmaj ▁tungkal ▁xxup ▁smp ▁xxmaj ▁negeri ▁1 ▁xxmaj ▁kual a ▁xxmaj ▁tungkal ▁adalah ▁sebuah ▁sekolah ▁menengah ▁pertama ▁yang ▁ter letak ▁di ▁xxmaj ▁jalan ▁xxup ▁h .</td>\n",
       "    </tr>\n",
       "    <tr>\n",
       "      <th>3</th>\n",
       "      <td>▁xxmaj ▁negeri ▁1 ▁xxmaj ▁kual a ▁xxmaj ▁tungkal ▁ter letak ▁di ▁xxmaj ▁ibu ▁xxmaj ▁kota ▁xxmaj ▁kabupaten ▁xxmaj ▁t anjung ▁xxmaj ▁jabung ▁xxmaj ▁barat , ▁namun ▁jauh ▁dari ▁kera m a ian ▁pasar ▁serta ▁ a rus ▁lalu ▁lintas ▁ram a i , ▁jara k ▁dari ▁sekolah ▁ke ▁pusat ▁pasar ▁kurang ▁lebih ▁1 ▁xxmaj ▁km ▁dan ▁jara k ▁dari ▁ru a s ▁jalan ▁raya ▁sekitar ▁150 ▁xxup ▁m . ▁xxmaj ▁berdasarkan ▁data</td>\n",
       "      <td>▁negeri ▁1 ▁xxmaj ▁kual a ▁xxmaj ▁tungkal ▁ter letak ▁di ▁xxmaj ▁ibu ▁xxmaj ▁kota ▁xxmaj ▁kabupaten ▁xxmaj ▁t anjung ▁xxmaj ▁jabung ▁xxmaj ▁barat , ▁namun ▁jauh ▁dari ▁kera m a ian ▁pasar ▁serta ▁ a rus ▁lalu ▁lintas ▁ram a i , ▁jara k ▁dari ▁sekolah ▁ke ▁pusat ▁pasar ▁kurang ▁lebih ▁1 ▁xxmaj ▁km ▁dan ▁jara k ▁dari ▁ru a s ▁jalan ▁raya ▁sekitar ▁150 ▁xxup ▁m . ▁xxmaj ▁berdasarkan ▁data ▁yang</td>\n",
       "    </tr>\n",
       "    <tr>\n",
       "      <th>4</th>\n",
       "      <td>) ▁mengenai ▁pemilihan ▁umum ▁xxmaj ▁presiden ▁xxmaj ▁amerika ▁xxmaj ▁serikat ▁2 ▁xxrep ▁3 ▁0 ▁ , ▁dan ▁\" o ber ge f ell ▁v . ▁xxmaj ▁ho d ge s \" ▁(201 5) ▁tentang ▁pernikahan ▁sesam a ▁jenis . ▁xxmaj ▁amendemen ▁ini ▁memb a tasi ▁tindakan ▁semua ▁pejabat ▁negara , ▁termasuk ▁mereka ▁yang ▁ber tindak ▁atas ▁nama ▁seorang ▁pejabat . ▁xxmaj ▁ayat ▁pertama ▁amendemen ▁ini ▁meng andung ▁beberapa ▁klausa , ▁seperti ▁xxmaj</td>\n",
       "      <td>▁mengenai ▁pemilihan ▁umum ▁xxmaj ▁presiden ▁xxmaj ▁amerika ▁xxmaj ▁serikat ▁2 ▁xxrep ▁3 ▁0 ▁ , ▁dan ▁\" o ber ge f ell ▁v . ▁xxmaj ▁ho d ge s \" ▁(201 5) ▁tentang ▁pernikahan ▁sesam a ▁jenis . ▁xxmaj ▁amendemen ▁ini ▁memb a tasi ▁tindakan ▁semua ▁pejabat ▁negara , ▁termasuk ▁mereka ▁yang ▁ber tindak ▁atas ▁nama ▁seorang ▁pejabat . ▁xxmaj ▁ayat ▁pertama ▁amendemen ▁ini ▁meng andung ▁beberapa ▁klausa , ▁seperti ▁xxmaj ▁klausa</td>\n",
       "    </tr>\n",
       "    <tr>\n",
       "      <th>5</th>\n",
       "      <td>▁kepala , ▁yang ▁juga ▁membe dakan ▁spesies ▁ini . ▁xxmaj ▁penyu ▁pipih ▁ini ▁memiliki ▁keunikan , ▁yaitu ▁meletakkan ▁sedikit ▁telur ▁tetapi ▁ukuran nya ▁lebih ▁besar ▁daripada ▁telur ▁spesies ▁penyu ▁lainnya . ▁xxmaj ▁mereka ▁ber bar ing ▁untuk ▁mengeluarkan ▁5 5 ▁telur ▁dalam ▁satu ▁waktu , ▁tiga ▁kali ▁selama ▁musim ▁kawin . ▁xxmaj ▁penyu ▁jantan ▁tidak ▁perna h ▁kembali ▁ke ▁pantai , ▁karena ▁perkawinan ▁terjadi ▁di ▁laut , ▁mengambil ▁waktu ▁sekitar ▁1, 5</td>\n",
       "      <td>, ▁yang ▁juga ▁membe dakan ▁spesies ▁ini . ▁xxmaj ▁penyu ▁pipih ▁ini ▁memiliki ▁keunikan , ▁yaitu ▁meletakkan ▁sedikit ▁telur ▁tetapi ▁ukuran nya ▁lebih ▁besar ▁daripada ▁telur ▁spesies ▁penyu ▁lainnya . ▁xxmaj ▁mereka ▁ber bar ing ▁untuk ▁mengeluarkan ▁5 5 ▁telur ▁dalam ▁satu ▁waktu , ▁tiga ▁kali ▁selama ▁musim ▁kawin . ▁xxmaj ▁penyu ▁jantan ▁tidak ▁perna h ▁kembali ▁ke ▁pantai , ▁karena ▁perkawinan ▁terjadi ▁di ▁laut , ▁mengambil ▁waktu ▁sekitar ▁1, 5 ▁jam</td>\n",
       "    </tr>\n",
       "    <tr>\n",
       "      <th>6</th>\n",
       "      <td>▁al - q uran , ▁di tengah ▁kegalauan ▁mencari ▁iman , ▁sang ▁suami ▁xxmaj ▁rendy ▁tidak ▁menghi ra u kan ▁keinginan ▁yang ▁terjadi ▁pada ▁dirinya . ▁xxmaj ▁tidak ▁hanya ▁xxmaj ▁mae , ▁xxmaj ▁sophie ▁juga ▁mengalam i ▁kegalauan ▁serupa , ▁per ni kah a annya ▁dengan ▁xxmaj ▁j a li ▁menjadi ▁tand a ▁ta nya ▁dengan ▁status ▁kawin ▁ gantung , ▁di tengah ▁kegalauan nya ▁xxmaj ▁sophie ▁mela rikan ▁diri ▁dengan ▁mengikuti</td>\n",
       "      <td>- q uran , ▁di tengah ▁kegalauan ▁mencari ▁iman , ▁sang ▁suami ▁xxmaj ▁rendy ▁tidak ▁menghi ra u kan ▁keinginan ▁yang ▁terjadi ▁pada ▁dirinya . ▁xxmaj ▁tidak ▁hanya ▁xxmaj ▁mae , ▁xxmaj ▁sophie ▁juga ▁mengalam i ▁kegalauan ▁serupa , ▁per ni kah a annya ▁dengan ▁xxmaj ▁j a li ▁menjadi ▁tand a ▁ta nya ▁dengan ▁status ▁kawin ▁ gantung , ▁di tengah ▁kegalauan nya ▁xxmaj ▁sophie ▁mela rikan ▁diri ▁dengan ▁mengikuti ▁pesan</td>\n",
       "    </tr>\n",
       "    <tr>\n",
       "      <th>7</th>\n",
       "      <td>▁hal ▁tersebut ▁o tom a tis ▁mem batalkan ▁kemenangan ▁xxmaj ▁alex ▁noerdin - ishak ▁xxmaj ▁mekki ▁pada ▁xxmaj ▁p il gu b ▁xxmaj ▁sum s el ▁6 ▁xxmaj ▁juni ▁lalu . ▁xxmaj ▁walau ▁begitu , ▁ku bu ▁alex - ishak ▁op tim is tis ▁tetap ▁menang ▁di ▁xxmaj ▁p il gu b ▁ulang ▁yang ▁belum ▁diketahui ▁kap an ▁waktu nya . ▁xxbos ▁xxmaj ▁dan te ' s ▁xxmaj ▁peak ▁xxmaj ▁dan te</td>\n",
       "      <td>▁tersebut ▁o tom a tis ▁mem batalkan ▁kemenangan ▁xxmaj ▁alex ▁noerdin - ishak ▁xxmaj ▁mekki ▁pada ▁xxmaj ▁p il gu b ▁xxmaj ▁sum s el ▁6 ▁xxmaj ▁juni ▁lalu . ▁xxmaj ▁walau ▁begitu , ▁ku bu ▁alex - ishak ▁op tim is tis ▁tetap ▁menang ▁di ▁xxmaj ▁p il gu b ▁ulang ▁yang ▁belum ▁diketahui ▁kap an ▁waktu nya . ▁xxbos ▁xxmaj ▁dan te ' s ▁xxmaj ▁peak ▁xxmaj ▁dan te '</td>\n",
       "    </tr>\n",
       "    <tr>\n",
       "      <th>8</th>\n",
       "      <td>▁mendorong ▁efisien si ▁bahan ▁baku , ▁energi ▁terbaru kan , ▁pem batasan ▁ em isi ▁ gas ▁rumah ▁kaca , ▁pe minimal an ▁sampah ▁dan ▁po lu si , ▁p elestari an ▁ekosistem ▁serta ▁mendukung ▁proses ▁adaptasi ▁terhadap ▁perubahan ▁ iklim . ▁xxmaj ▁di ▁xxmaj ▁amerika ▁xxmaj ▁serikat , ▁pertumbuhan ▁pekerja ▁ke rah ▁hijau ▁ter golong ▁stabil . ▁xxmaj ▁pada ▁xxmaj ▁april ▁2019 , ▁xxmaj ▁b i ro ▁xxmaj ▁st at istik</td>\n",
       "      <td>▁efisien si ▁bahan ▁baku , ▁energi ▁terbaru kan , ▁pem batasan ▁ em isi ▁ gas ▁rumah ▁kaca , ▁pe minimal an ▁sampah ▁dan ▁po lu si , ▁p elestari an ▁ekosistem ▁serta ▁mendukung ▁proses ▁adaptasi ▁terhadap ▁perubahan ▁ iklim . ▁xxmaj ▁di ▁xxmaj ▁amerika ▁xxmaj ▁serikat , ▁pertumbuhan ▁pekerja ▁ke rah ▁hijau ▁ter golong ▁stabil . ▁xxmaj ▁pada ▁xxmaj ▁april ▁2019 , ▁xxmaj ▁b i ro ▁xxmaj ▁st at istik ▁xxmaj</td>\n",
       "    </tr>\n",
       "  </tbody>\n",
       "</table>"
      ],
      "text/plain": [
       "<IPython.core.display.HTML object>"
      ]
     },
     "metadata": {},
     "output_type": "display_data"
    }
   ],
   "source": [
    "dls.show_batch()"
   ]
  },
  {
   "cell_type": "code",
   "execution_count": 8,
   "metadata": {},
   "outputs": [
    {
     "data": {
      "text/plain": [
       "(15, 2)"
      ]
     },
     "execution_count": 8,
     "metadata": {},
     "output_type": "execute_result"
    }
   ],
   "source": [
    "len(dls.train), len(dls.valid)"
   ]
  },
  {
   "cell_type": "code",
   "execution_count": 15,
   "metadata": {},
   "outputs": [],
   "source": [
    "#learn = language_model_learner(dls, AWD_LSTM, drop_mult=0.5, pretrained=False, \n",
    "#                               metrics=[accuracy, Perplexity()]).to_native_fp16()\n",
    "learn = language_model_learner(dls, AWD_LSTM, drop_mult=0.5, pretrained=False, \n",
    "                               metrics=[accuracy, Perplexity()])\n",
    "learn.path = model_path"
   ]
  },
  {
   "cell_type": "code",
   "execution_count": 16,
   "metadata": {},
   "outputs": [],
   "source": [
    "lr = 1e-2\n",
    "lr *= bs/48  # Scale learning rate by batch size"
   ]
  },
  {
   "cell_type": "code",
   "execution_count": 17,
   "metadata": {},
   "outputs": [],
   "source": [
    "cbs=[CSVLogger(fname='history_de_wikitext.csv')]"
   ]
  },
  {
   "cell_type": "code",
   "execution_count": null,
   "metadata": {},
   "outputs": [
    {
     "data": {
      "text/html": [
       "\n",
       "    <div>\n",
       "        <style>\n",
       "            /* Turns off some styling */\n",
       "            progress {\n",
       "                /* gets rid of default border in Firefox and Opera. */\n",
       "                border: none;\n",
       "                /* Needs to be in here for Safari polyfill so background images work as expected. */\n",
       "                background-size: auto;\n",
       "            }\n",
       "            .progress-bar-interrupted, .progress-bar-interrupted::-webkit-progress-bar {\n",
       "                background: #F44336;\n",
       "            }\n",
       "        </style>\n",
       "      <progress value='2' class='' max='10' style='width:300px; height:20px; vertical-align: middle;'></progress>\n",
       "      20.00% [2/10 03:48<15:14]\n",
       "    </div>\n",
       "    \n",
       "<table border=\"1\" class=\"dataframe\">\n",
       "  <thead>\n",
       "    <tr style=\"text-align: left;\">\n",
       "      <th>epoch</th>\n",
       "      <th>train_loss</th>\n",
       "      <th>valid_loss</th>\n",
       "      <th>accuracy</th>\n",
       "      <th>perplexity</th>\n",
       "      <th>time</th>\n",
       "    </tr>\n",
       "  </thead>\n",
       "  <tbody>\n",
       "    <tr>\n",
       "      <td>0</td>\n",
       "      <td>7.249102</td>\n",
       "      <td>6.810330</td>\n",
       "      <td>0.124009</td>\n",
       "      <td>907.170471</td>\n",
       "      <td>01:06</td>\n",
       "    </tr>\n",
       "    <tr>\n",
       "      <td>1</td>\n",
       "      <td>7.240525</td>\n",
       "      <td>7.713139</td>\n",
       "      <td>0.015674</td>\n",
       "      <td>2237.553955</td>\n",
       "      <td>02:42</td>\n",
       "    </tr>\n",
       "  </tbody>\n",
       "</table><p>\n",
       "\n",
       "    <div>\n",
       "        <style>\n",
       "            /* Turns off some styling */\n",
       "            progress {\n",
       "                /* gets rid of default border in Firefox and Opera. */\n",
       "                border: none;\n",
       "                /* Needs to be in here for Safari polyfill so background images work as expected. */\n",
       "                background-size: auto;\n",
       "            }\n",
       "            .progress-bar-interrupted, .progress-bar-interrupted::-webkit-progress-bar {\n",
       "                background: #F44336;\n",
       "            }\n",
       "        </style>\n",
       "      <progress value='5' class='' max='15' style='width:300px; height:20px; vertical-align: middle;'></progress>\n",
       "      33.33% [5/15 05:28<10:57 7.2660]\n",
       "    </div>\n",
       "    "
      ],
      "text/plain": [
       "<IPython.core.display.HTML object>"
      ]
     },
     "metadata": {},
     "output_type": "display_data"
    }
   ],
   "source": [
    "learn.unfreeze()\n",
    "learn.fit_one_cycle(10, lr, cbs=cbs, moms=(0.8, 0.7, 0.8))"
   ]
  },
  {
   "cell_type": "code",
   "execution_count": null,
   "metadata": {},
   "outputs": [],
   "source": [
    "lm_fns = [model_path/f'{lang}_wikitext', model_path/f'{lang}_wikitext_vocab.pkl']"
   ]
  },
  {
   "cell_type": "code",
   "execution_count": null,
   "metadata": {},
   "outputs": [],
   "source": [
    "#learn.to_fp32().save(lm_fns[0], with_opt=False)\n",
    "learn.save(lm_fns[0], with_opt=False)"
   ]
  },
  {
   "cell_type": "code",
   "execution_count": null,
   "metadata": {},
   "outputs": [],
   "source": [
    "with open(lm_fns[1], 'wb') as f:\n",
    "      pickle.dump(learn.dls.vocab, f)"
   ]
  },
  {
   "cell_type": "code",
   "execution_count": null,
   "metadata": {},
   "outputs": [],
   "source": []
  }
 ],
 "metadata": {
  "kernelspec": {
   "display_name": "Python 3",
   "language": "python",
   "name": "python3"
  },
  "language_info": {
   "codemirror_mode": {
    "name": "ipython",
    "version": 3
   },
   "file_extension": ".py",
   "mimetype": "text/x-python",
   "name": "python",
   "nbconvert_exporter": "python",
   "pygments_lexer": "ipython3",
   "version": "3.7.0"
  }
 },
 "nbformat": 4,
 "nbformat_minor": 4
}
