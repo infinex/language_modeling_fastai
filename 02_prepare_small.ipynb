{
 "cells": [
  {
   "cell_type": "code",
   "execution_count": 5,
   "id": "worst-joining",
   "metadata": {},
   "outputs": [],
   "source": [
    "from pathlib import Path\n",
    "import random\n",
    "import shutil"
   ]
  },
  {
   "cell_type": "code",
   "execution_count": 2,
   "id": "amino-champagne",
   "metadata": {},
   "outputs": [],
   "source": [
    "files = list(Path('data/docs').glob('*'))"
   ]
  },
  {
   "cell_type": "code",
   "execution_count": 11,
   "id": "subject-yugoslavia",
   "metadata": {},
   "outputs": [
    {
     "ename": "AttributeError",
     "evalue": "module 'random' has no attribute 'choices_n'",
     "output_type": "error",
     "traceback": [
      "\u001b[0;31m---------------------------------------------------------------------\u001b[0m",
      "\u001b[0;31mAttributeError\u001b[0m                      Traceback (most recent call last)",
      "\u001b[0;32m<ipython-input-11-f0a59c52eb66>\u001b[0m in \u001b[0;36m<module>\u001b[0;34m\u001b[0m\n\u001b[0;32m----> 1\u001b[0;31m \u001b[0mrandom\u001b[0m\u001b[0;34m.\u001b[0m\u001b[0mchoices_n\u001b[0m\u001b[0;34m(\u001b[0m\u001b[0mfiles\u001b[0m\u001b[0;34m)\u001b[0m\u001b[0;34m\u001b[0m\u001b[0m\n\u001b[0m",
      "\u001b[0;31mAttributeError\u001b[0m: module 'random' has no attribute 'choices_n'"
     ]
    }
   ],
   "source": [
    "random.choices_n(files)"
   ]
  },
  {
   "cell_type": "code",
   "execution_count": 3,
   "id": "conceptual-leather",
   "metadata": {},
   "outputs": [],
   "source": [
    "ran_files = random.choices(files,k=100)"
   ]
  },
  {
   "cell_type": "code",
   "execution_count": 10,
   "id": "tropical-pixel",
   "metadata": {},
   "outputs": [],
   "source": [
    "for file in ran_files:\n",
    "    Path('data/doc_small/').mkdir(exist_ok=True,parents=True)\n",
    "    shutil.copy(file, Path('data/doc_small/') / file.name)"
   ]
  },
  {
   "cell_type": "code",
   "execution_count": null,
   "id": "dangerous-browser",
   "metadata": {},
   "outputs": [],
   "source": []
  }
 ],
 "metadata": {
  "kernelspec": {
   "display_name": "Python 3",
   "language": "python",
   "name": "python3"
  },
  "language_info": {
   "codemirror_mode": {
    "name": "ipython",
    "version": 3
   },
   "file_extension": ".py",
   "mimetype": "text/x-python",
   "name": "python",
   "nbconvert_exporter": "python",
   "pygments_lexer": "ipython3",
   "version": "3.7.0"
  }
 },
 "nbformat": 4,
 "nbformat_minor": 5
}
